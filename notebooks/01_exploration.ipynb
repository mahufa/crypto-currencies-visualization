{
 "cells": [
  {
   "cell_type": "code",
   "execution_count": 6,
   "id": "1db317f8-92b7-452f-a950-7fae0491d155",
   "metadata": {},
   "outputs": [
    {
     "name": "stdout",
     "output_type": "stream",
     "text": [
      "['btc', 'eth', 'ltc', 'bch', 'bnb', 'eos', 'xrp', 'xlm', 'link', 'dot', 'yfi', 'usd', 'aed', 'ars', 'aud', 'bdt', 'bhd', 'bmd', 'brl', 'cad', 'chf', 'clp', 'cny', 'czk', 'dkk', 'eur', 'gbp', 'gel', 'hkd', 'huf', 'idr', 'ils', 'inr', 'jpy', 'krw', 'kwd', 'lkr', 'mmk', 'mxn', 'myr', 'ngn', 'nok', 'nzd', 'php', 'pkr', 'pln', 'rub', 'sar', 'sek', 'sgd', 'thb', 'try', 'twd', 'uah', 'vef', 'vnd', 'zar', 'xdr', 'xag', 'xau', 'bits', 'sats']\n"
     ]
    }
   ],
   "source": [
    "import sys\n",
    "sys.path.append('/Users/Mariusz/PycharmProjects/crypto_currency_prediction/src')\n",
    "import api_utils\n",
    "\n",
    "print(api_utils.get_currencies())"
   ]
  },
  {
   "cell_type": "code",
   "execution_count": 9,
   "id": "a3c5d1c2-e6ff-4b5a-aa23-0c524f8f86a8",
   "metadata": {},
   "outputs": [
    {
     "name": "stdout",
     "output_type": "stream",
     "text": [
      "                             id symbol                      name\n",
      "0                             _    gib                ༼ つ ◕_◕ ༽つ\n",
      "1                        01coin    zoc                    01coin\n",
      "2                        0chain    zcn                       Zus\n",
      "3                          0dog   0dog              Bitcoin Dogs\n",
      "4           0-knowledge-network    0kn       0 Knowledge Network\n",
      "...                         ...    ...                       ...\n",
      "17173                 zyncoin-2    zyn                   ZynCoin\n",
      "17174                  zynecoin    zyn                  Zynecoin\n",
      "17175                     zyrri    zyr                     Zyrri\n",
      "17176                       zzz    zzz               GoSleep ZZZ\n",
      "17177  z-z-z-z-z-fehu-z-z-z-z-z      ᚠ  Z•Z•Z•Z•Z•FEHU•Z•Z•Z•Z•Z\n",
      "\n",
      "[17178 rows x 3 columns]\n"
     ]
    }
   ],
   "source": [
    "import sys\n",
    "sys.path.append('/Users/Mariusz/PycharmProjects/crypto_currency_prediction/src')\n",
    "import api_utils\n",
    "\n",
    "print(api_utils.get_coins())"
   ]
  },
  {
   "cell_type": "code",
   "execution_count": 7,
   "id": "edcc9710-edc8-45d3-b831-223cde54c937",
   "metadata": {},
   "outputs": [
    {
     "name": "stdout",
     "output_type": "stream",
     "text": [
      "             id symbol               name     market_cap  current_price\n",
      "0       bitcoin    btc            Bitcoin  1894922558495     95608.0696\n",
      "1      ethereum    eth           Ethereum   324294487689      2693.8513\n",
      "2        ripple    xrp                XRP   142642024714         2.4639\n",
      "3        tether   usdt             Tether   142430562942         1.0001\n",
      "4   binancecoin    bnb                BNB    93403357406       640.0060\n",
      "5        solana    sol             Solana    78015146450       158.6805\n",
      "6      usd-coin   usdc               USDC    57188910720         1.0000\n",
      "7      dogecoin   doge           Dogecoin    34110623285         0.2302\n",
      "8       cardano    ada            Cardano    26410459851         0.7348\n",
      "9  staked-ether  steth  Lido Staked Ether    25304706527      2686.6018\n"
     ]
    }
   ],
   "source": [
    "import sys\n",
    "sys.path.append('/Users/Mariusz/PycharmProjects/crypto_currency_prediction/src')\n",
    "import api_utils\n",
    "\n",
    "print(api_utils.get_sorted_by_mkt_cap())"
   ]
  },
  {
   "cell_type": "code",
   "execution_count": 8,
   "id": "59a3e804-d553-4db6-b8db-00f890e3bc62",
   "metadata": {},
   "outputs": [
    {
     "name": "stdout",
     "output_type": "stream",
     "text": [
      "         timestamp                datetime       prices   market_caps  \\\n",
      "0    1737795647056 2025-01-25 09:00:47.056  104318.9720  2.066608e+12   \n",
      "1    1737799418548 2025-01-25 10:03:38.548  104357.2661  2.067700e+12   \n",
      "2    1737802896915 2025-01-25 11:01:36.915  104529.2429  2.071409e+12   \n",
      "3    1737806628655 2025-01-25 12:03:48.655  104629.5750  2.073087e+12   \n",
      "4    1737810220199 2025-01-25 13:03:40.199  104747.0351  2.076318e+12   \n",
      "..             ...                     ...          ...           ...   \n",
      "716  1740373264500 2025-02-24 05:01:04.500   95286.7957  1.889361e+12   \n",
      "717  1740377072274 2025-02-24 06:04:32.274   95738.0497  1.898613e+12   \n",
      "718  1740380664571 2025-02-24 07:04:24.571   95913.3452  1.900014e+12   \n",
      "719  1740384288274 2025-02-24 08:04:48.274   95901.8387  1.901828e+12   \n",
      "720  1740386641000 2025-02-24 08:44:01.000   95596.6123  1.895526e+12   \n",
      "\n",
      "     total_volumes  \n",
      "0     4.304413e+10  \n",
      "1     4.043684e+10  \n",
      "2     3.517511e+10  \n",
      "3     4.122295e+10  \n",
      "4     3.839570e+10  \n",
      "..             ...  \n",
      "716   1.939357e+10  \n",
      "717   2.190798e+10  \n",
      "718   2.232683e+10  \n",
      "719   2.161439e+10  \n",
      "720   2.228143e+10  \n",
      "\n",
      "[721 rows x 5 columns]\n"
     ]
    }
   ],
   "source": [
    "import sys\n",
    "sys.path.append('/Users/Mariusz/PycharmProjects/crypto_currency_prediction/src')\n",
    "import api_utils\n",
    "\n",
    "print(api_utils.get_historical_data(\"bitcoin\"))"
   ]
  },
  {
   "cell_type": "code",
   "execution_count": 11,
   "id": "f959f539-b8e3-48ce-b37f-82d5bd99f1a7",
   "metadata": {},
   "outputs": [
    {
     "name": "stdout",
     "output_type": "stream",
     "text": [
      "         timestamp         open         high          low        close  \\\n",
      "0    1737806400000  104351.2038  104652.4824  104132.6131  104622.3313   \n",
      "1    1737820800000  104629.5750  105081.7188  104436.1671  104842.1316   \n",
      "2    1737835200000  104913.7575  105169.4744  104552.7406  104991.8895   \n",
      "3    1737849600000  105057.7592  105231.8132  104796.0408  104796.0408   \n",
      "4    1737864000000  104757.7217  105163.3640  104514.8316  105045.5383   \n",
      "..             ...          ...          ...          ...          ...   \n",
      "175  1740326400000   96113.9467   96153.4391   95500.6979   95516.7066   \n",
      "176  1740340800000   95432.6522   95871.4052   95247.0834   95748.5619   \n",
      "177  1740355200000   95724.5035   96327.4631   95585.0684   96327.4631   \n",
      "178  1740369600000   96265.4284   96480.9277   95329.9933   95492.2342   \n",
      "179  1740384000000   95444.9217   95937.0349   95113.3655   95902.8502   \n",
      "\n",
      "               datetime  \n",
      "0   2025-01-25 12:00:00  \n",
      "1   2025-01-25 16:00:00  \n",
      "2   2025-01-25 20:00:00  \n",
      "3   2025-01-26 00:00:00  \n",
      "4   2025-01-26 04:00:00  \n",
      "..                  ...  \n",
      "175 2025-02-23 16:00:00  \n",
      "176 2025-02-23 20:00:00  \n",
      "177 2025-02-24 00:00:00  \n",
      "178 2025-02-24 04:00:00  \n",
      "179 2025-02-24 08:00:00  \n",
      "\n",
      "[180 rows x 6 columns]\n"
     ]
    }
   ],
   "source": [
    "import sys\n",
    "sys.path.append('/Users/Mariusz/PycharmProjects/crypto_currency_prediction/src')\n",
    "import api_utils\n",
    "\n",
    "print(api_utils.get_ohlc_data(\"bitcoin\"))"
   ]
  },
  {
   "cell_type": "code",
   "execution_count": null,
   "id": "dd9938a0-bdd1-47b8-9b26-a209ea690ae7",
   "metadata": {},
   "outputs": [],
   "source": []
  }
 ],
 "metadata": {
  "kernelspec": {
   "display_name": "Python 3 (ipykernel)",
   "language": "python",
   "name": "python3"
  },
  "language_info": {
   "codemirror_mode": {
    "name": "ipython",
    "version": 3
   },
   "file_extension": ".py",
   "mimetype": "text/x-python",
   "name": "python",
   "nbconvert_exporter": "python",
   "pygments_lexer": "ipython3",
   "version": "3.11.11"
  }
 },
 "nbformat": 4,
 "nbformat_minor": 5
}
