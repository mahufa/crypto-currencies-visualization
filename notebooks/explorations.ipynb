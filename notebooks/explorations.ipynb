{
 "cells": [
  {
   "cell_type": "code",
   "execution_count": 2,
   "id": "4d24cd15-0910-41b1-8c50-39dc605adf0b",
   "metadata": {},
   "outputs": [],
   "source": [
    "import sys\n",
    "sys.path.append('/Users/Mariusz/PycharmProjects/crypto_currency_prediction/src')\n",
    "import api_utils"
   ]
  },
  {
   "cell_type": "code",
   "execution_count": 3,
   "id": "1db317f8-92b7-452f-a950-7fae0491d155",
   "metadata": {},
   "outputs": [
    {
     "name": "stdout",
     "output_type": "stream",
     "text": [
      "0      btc\n",
      "1      eth\n",
      "2      ltc\n",
      "3      bch\n",
      "4      bnb\n",
      "      ... \n",
      "57     xdr\n",
      "58     xag\n",
      "59     xau\n",
      "60    bits\n",
      "61    sats\n",
      "Length: 62, dtype: object\n"
     ]
    }
   ],
   "source": [
    "print(api_utils.get_currencies())"
   ]
  },
  {
   "cell_type": "code",
   "execution_count": 4,
   "id": "a3c5d1c2-e6ff-4b5a-aa23-0c524f8f86a8",
   "metadata": {},
   "outputs": [
    {
     "name": "stdout",
     "output_type": "stream",
     "text": [
      "                             id symbol                      name\n",
      "0                             _    gib                ༼ つ ◕_◕ ༽つ\n",
      "1                        01coin    zoc                    01coin\n",
      "2                        0chain    zcn                       Zus\n",
      "3                          0dog   0dog              Bitcoin Dogs\n",
      "4           0-knowledge-network    0kn       0 Knowledge Network\n",
      "...                         ...    ...                       ...\n",
      "17123                  zynecoin    zyn                  Zynecoin\n",
      "17124                    zyro-2   zyro                      ZYRO\n",
      "17125                     zyrri    zyr                     Zyrri\n",
      "17126                       zzz    zzz               GoSleep ZZZ\n",
      "17127  z-z-z-z-z-fehu-z-z-z-z-z      ᚠ  Z•Z•Z•Z•Z•FEHU•Z•Z•Z•Z•Z\n",
      "\n",
      "[17128 rows x 3 columns]\n"
     ]
    }
   ],
   "source": [
    "print(api_utils.get_coins())"
   ]
  },
  {
   "cell_type": "code",
   "execution_count": 5,
   "id": "edcc9710-edc8-45d3-b831-223cde54c937",
   "metadata": {},
   "outputs": [
    {
     "name": "stdout",
     "output_type": "stream",
     "text": [
      "            id symbol      name     market_cap  current_price\n",
      "0      bitcoin    btc   Bitcoin  1632033941884       82164.16\n",
      "1     ethereum    eth  Ethereum   218917604537        1813.16\n",
      "2       tether   usdt    Tether   143921079628           1.00\n",
      "3       ripple    xrp       XRP   121335913925           2.08\n",
      "4  binancecoin    bnb       BNB    87091200277         596.24\n",
      "5       solana    sol    Solana    63859808955         124.50\n",
      "6     usd-coin   usdc      USDC    60061371519           1.00\n",
      "7     dogecoin   doge  Dogecoin    24396991834           0.16\n",
      "8      cardano    ada   Cardano    23193131077           0.64\n",
      "9         tron    trx      TRON    22194993507           0.23\n"
     ]
    }
   ],
   "source": [
    "print(api_utils.get_sorted_by_mkt_cap())"
   ]
  },
  {
   "cell_type": "code",
   "execution_count": 7,
   "id": "59a3e804-d553-4db6-b8db-00f890e3bc62",
   "metadata": {},
   "outputs": [
    {
     "name": "stdout",
     "output_type": "stream",
     "text": [
      "         timestamp     price    market_cap  total_volume\n",
      "0    1711929600000  71246.95  1.401370e+12  1.972301e+10\n",
      "1    1712016000000  69785.93  1.373784e+12  3.604009e+10\n",
      "2    1712102400000  65440.42  1.288361e+12  4.516113e+10\n",
      "3    1712188800000  66123.94  1.301670e+12  3.555995e+10\n",
      "4    1712275200000  68542.18  1.348456e+12  3.751685e+10\n",
      "..             ...       ...           ...           ...\n",
      "360  1743033600000  86960.86  1.724854e+12  2.552288e+10\n",
      "361  1743120000000  87227.27  1.729730e+12  2.462045e+10\n",
      "362  1743206400000  84359.47  1.673183e+12  3.167449e+10\n",
      "363  1743292800000  82679.17  1.640666e+12  1.683744e+10\n",
      "364  1743379200000  82356.38  1.633996e+12  1.342898e+10\n",
      "\n",
      "[365 rows x 4 columns]\n"
     ]
    }
   ],
   "source": [
    "print(api_utils.get_historical_data())"
   ]
  },
  {
   "cell_type": "code",
   "execution_count": 9,
   "id": "f959f539-b8e3-48ce-b37f-82d5bd99f1a7",
   "metadata": {},
   "outputs": [
    {
     "name": "stdout",
     "output_type": "stream",
     "text": [
      "        timestamp      open      high       low     close\n",
      "0   1711756800000  70744.42  70907.64  69197.09  69919.06\n",
      "1   1712102400000  69906.36  71343.82  64692.62  65440.42\n",
      "2   1712448000000  65449.67  69576.85  64673.16  69000.65\n",
      "3   1712793600000  68896.13  72631.62  67568.51  70527.89\n",
      "4   1713139200000  70602.35  71220.95  61514.38  65752.66\n",
      "..            ...       ...       ...       ...       ...\n",
      "87  1741824000000  86173.28  86482.72  76784.16  83884.25\n",
      "88  1742169600000  83678.47  85139.55  79947.75  82610.62\n",
      "89  1742515200000  82570.50  87431.18  81207.51  84270.84\n",
      "90  1742860800000  84326.23  88713.83  83238.78  87327.73\n",
      "91  1743206400000  87483.01  88430.06  83609.35  84359.47\n",
      "\n",
      "[92 rows x 5 columns]\n"
     ]
    }
   ],
   "source": [
    "print(api_utils.get_ohlc_data())"
   ]
  },
  {
   "cell_type": "code",
   "execution_count": 10,
   "id": "3eb9ec5f-17bc-4d44-a69c-5f1c71aa8120",
   "metadata": {},
   "outputs": [
    {
     "name": "stdout",
     "output_type": "stream",
     "text": [
      "         timestamp      open      high       low     close  total_volume  \\\n",
      "0    1711756800000  70744.42  70907.64  69197.09  69919.06           NaN   \n",
      "1    1711929600000       NaN       NaN       NaN       NaN  1.972301e+10   \n",
      "2    1712016000000       NaN       NaN       NaN       NaN  3.604009e+10   \n",
      "3    1712102400000  69906.36  71343.82  64692.62  65440.42  4.516113e+10   \n",
      "4    1712188800000       NaN       NaN       NaN       NaN  3.555995e+10   \n",
      "..             ...       ...       ...       ...       ...           ...   \n",
      "361  1743033600000       NaN       NaN       NaN       NaN  2.552288e+10   \n",
      "362  1743120000000       NaN       NaN       NaN       NaN  2.462045e+10   \n",
      "363  1743206400000  87483.01  88430.06  83609.35  84359.47  3.167449e+10   \n",
      "364  1743292800000       NaN       NaN       NaN       NaN  1.683744e+10   \n",
      "365  1743379200000       NaN       NaN       NaN       NaN  1.342898e+10   \n",
      "\n",
      "       market_cap     price  \n",
      "0             NaN       NaN  \n",
      "1    1.401370e+12  71246.95  \n",
      "2    1.373784e+12  69785.93  \n",
      "3    1.288361e+12  65440.42  \n",
      "4    1.301670e+12  66123.94  \n",
      "..            ...       ...  \n",
      "361  1.724854e+12  86960.86  \n",
      "362  1.729730e+12  87227.27  \n",
      "363  1.673183e+12  84359.47  \n",
      "364  1.640666e+12  82679.17  \n",
      "365  1.633996e+12  82356.38  \n",
      "\n",
      "[366 rows x 8 columns]\n"
     ]
    }
   ],
   "source": [
    "df = api_utils.get_ohlc_data()\n",
    "df2 = api_utils.get_historical_data()\n",
    "\n",
    "print(df.merge(df2, on='timestamp', how='outer'))"
   ]
  }
 ],
 "metadata": {
  "kernelspec": {
   "display_name": "Python 3 (ipykernel)",
   "language": "python",
   "name": "python3"
  },
  "language_info": {
   "codemirror_mode": {
    "name": "ipython",
    "version": 3
   },
   "file_extension": ".py",
   "mimetype": "text/x-python",
   "name": "python",
   "nbconvert_exporter": "python",
   "pygments_lexer": "ipython3",
   "version": "3.11.11"
  }
 },
 "nbformat": 4,
 "nbformat_minor": 5
}
