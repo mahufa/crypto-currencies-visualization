{
 "cells": [
  {
   "cell_type": "markdown",
   "id": "8485fc89",
   "metadata": {},
   "source": [
    "#### Run imports:"
   ]
  },
  {
   "cell_type": "code",
   "execution_count": 6,
   "id": "62b25203",
   "metadata": {},
   "outputs": [],
   "source": [
    "import sys\n",
    "sys.path.append('../src')\n",
    "from api_client import get_currencies, get_coins, get_sorted_by_mkt_cap, get_historical_data, get_ohlc_data\n",
    "from data_prep import OHLCSessionMaker\n",
    "from project_utils import CoinMetaData\n",
    "from visualizations import HistPlotter, OHLCPlotter\n",
    "%matplotlib widget"
   ]
  },
  {
   "cell_type": "markdown",
   "id": "89506525",
   "metadata": {},
   "source": [
    "#### Set coin & currency:"
   ]
  },
  {
   "cell_type": "code",
   "execution_count": 7,
   "id": "5ffaa54c",
   "metadata": {},
   "outputs": [],
   "source": [
    "coin = 'bitcoin'\n",
    "currency = 'usd'"
   ]
  },
  {
   "cell_type": "markdown",
   "id": "1676f018",
   "metadata": {},
   "source": [
    "##### Set plot size:"
   ]
  },
  {
   "cell_type": "code",
   "execution_count": 8,
   "id": "335e8be1",
   "metadata": {},
   "outputs": [],
   "source": [
    "width = 10\n",
    "height = 5"
   ]
  },
  {
   "cell_type": "markdown",
   "id": "dff79198",
   "metadata": {},
   "source": [
    "#### Run initialization:"
   ]
  },
  {
   "cell_type": "code",
   "execution_count": 9,
   "id": "9d3a46666f366611",
   "metadata": {
    "ExecuteTime": {
     "end_time": "2025-05-26T11:38:22.716950Z",
     "start_time": "2025-05-26T11:38:22.714816Z"
    }
   },
   "outputs": [],
   "source": [
    "coin_meta_data = CoinMetaData(coin, currency)\n",
    "size = (width, height)\n",
    "\n",
    "hist_data = get_historical_data(coin_meta_data)\n",
    "ohlc_data = get_ohlc_data(coin_meta_data)"
   ]
  },
  {
   "cell_type": "markdown",
   "id": "aab48e60",
   "metadata": {},
   "source": [
    "#### Historical data plot:"
   ]
  },
  {
   "cell_type": "code",
   "execution_count": null,
   "id": "80730de7",
   "metadata": {},
   "outputs": [],
   "source": [
    "#price\n",
    "HistPlotter(hist_data).plot_price()"
   ]
  },
  {
   "cell_type": "code",
   "execution_count": null,
   "id": "2d770a0b",
   "metadata": {},
   "outputs": [],
   "source": [
    "#market capitalization\n",
    "HistPlotter(hist_data).plot_market_cap()"
   ]
  },
  {
   "cell_type": "code",
   "execution_count": null,
   "id": "ebb36c26",
   "metadata": {},
   "outputs": [],
   "source": [
    "#total volume\n",
    "HistPlotter(hist_data).plot_total_volume()"
   ]
  },
  {
   "cell_type": "markdown",
   "id": "da501aab",
   "metadata": {},
   "source": [
    "#### OHLC plot:"
   ]
  },
  {
   "cell_type": "code",
   "execution_count": 13,
   "id": "b5ff7aac",
   "metadata": {},
   "outputs": [],
   "source": [
    "#change if you don't want a total volume section on a plot\n",
    "include_volume = True"
   ]
  },
  {
   "cell_type": "code",
   "execution_count": null,
   "id": "a8865985",
   "metadata": {},
   "outputs": [],
   "source": [
    "#run to get a candlestick chart:\n",
    "ohlcv_session_data = OHLCSessionMaker(hist_data, ohlc_data).make_session()\n",
    "OHLCPlotter(ohlcv_session_data, size).plot_candlestick(include_volume)"
   ]
  },
  {
   "cell_type": "markdown",
   "id": "8468dc96",
   "metadata": {},
   "source": [
    "##### CoinGecko available coins and currencies:"
   ]
  },
  {
   "cell_type": "code",
   "execution_count": 11,
   "id": "cd99c50d410c109d",
   "metadata": {
    "ExecuteTime": {
     "end_time": "2025-05-26T11:39:54.561698Z",
     "start_time": "2025-05-26T11:39:54.559712Z"
    }
   },
   "outputs": [],
   "source": [
    "get_currencies()"
   ]
  },
  {
   "cell_type": "code",
   "execution_count": null,
   "id": "2ea7d95f",
   "metadata": {},
   "outputs": [],
   "source": [
    "get_coins()"
   ]
  }
 ],
 "metadata": {
  "kernelspec": {
   "display_name": "Python 3 (ipykernel)",
   "language": "python",
   "name": "python3"
  },
  "language_info": {
   "codemirror_mode": {
    "name": "ipython",
    "version": 3
   },
   "file_extension": ".py",
   "mimetype": "text/x-python",
   "name": "python",
   "nbconvert_exporter": "python",
   "pygments_lexer": "ipython3",
   "version": "3.11.5"
  }
 },
 "nbformat": 4,
 "nbformat_minor": 5
}
